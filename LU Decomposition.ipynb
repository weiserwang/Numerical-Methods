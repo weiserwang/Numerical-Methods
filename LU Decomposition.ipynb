{
 "cells": [
  {
   "cell_type": "code",
   "execution_count": 2,
   "metadata": {},
   "outputs": [],
   "source": [
    "import numpy as np"
   ]
  },
  {
   "cell_type": "code",
   "execution_count": 33,
   "metadata": {},
   "outputs": [],
   "source": [
    "#Doolittle's Factorisation\n",
    "def LU_decomposition_doolittle(A):\n",
    "    \"\"\"\n",
    "    Parameters\n",
    "    ----------\n",
    "    A : The matrix to be decomposed by doolittle method\n",
    "    \n",
    "    Returns\n",
    "    -------\n",
    "    L : Lower triangular matrix\n",
    "    U : Upper triangular matrix\n",
    "    \n",
    "    \"\"\"\n",
    "    nrow,ncol = A.shape[0],A.shape[1]\n",
    "    L = np.eye(nrow,ncol)\n",
    "    U = np.zeros([ncol,nrow])\n",
    "\n",
    "    for i in range(nrow):\n",
    "        for j in range(ncol):\n",
    "            s = min(i,j)\n",
    "            rest_sum = np.sum([L[i,s]*U[s,j] for s in range(s+1)])\n",
    "            if i<=j:\n",
    "                U[i,j] = (A[i,j]-rest_sum)/L[i,s]\n",
    "            else:\n",
    "                L[i,j] = (A[i,j]-rest_sum)/U[s,j]\n",
    "    return L,U"
   ]
  },
  {
   "cell_type": "code",
   "execution_count": 47,
   "metadata": {},
   "outputs": [
    {
     "name": "stdout",
     "output_type": "stream",
     "text": [
      "[[ 1.  0.  0.]\n",
      " [ 2.  1.  0.]\n",
      " [-1.  2.  1.]]\n",
      "\n",
      "\n",
      "[[ 2.  1. -1.]\n",
      " [ 0. -1.  2.]\n",
      " [ 0.  0.  3.]]\n"
     ]
    }
   ],
   "source": [
    "def test_doolittle_B():\n",
    "    B = np.array([[2,1,-1],[4,1,0],[-2,-3,8]])\n",
    "    L,U = LU_decomposition_doolittle(B)\n",
    "    print(L)\n",
    "    print('\\n')\n",
    "    print(U)\n",
    "test_B()"
   ]
  },
  {
   "cell_type": "code",
   "execution_count": 50,
   "metadata": {},
   "outputs": [],
   "source": [
    "def LU_decomposition_crout(A):\n",
    "    \"\"\"\n",
    "    Decompose a given matrix by crout method\n",
    "    \n",
    "    Parameters\n",
    "    ----------\n",
    "    A : array of float\n",
    "        The matrix to be decomposed\n",
    "    \n",
    "    Returns\n",
    "    -------\n",
    "    L : Lower triangular matrix\n",
    "    U : Upper triangular matrix\n",
    "    \n",
    "    \"\"\"\n",
    "    nrow,ncol = A.shape[0],A.shape[1]\n",
    "    U = np.eye(nrow,ncol)\n",
    "    L = np.zeros([ncol,nrow])\n",
    "\n",
    "    for i in range(nrow):\n",
    "        for j in range(ncol):\n",
    "            s = min(i,j)\n",
    "            rest_sum = np.sum([L[i,s]*U[s,j] for s in range(s+1)])\n",
    "            if i<j:\n",
    "                U[i,j] = (A[i,j]-rest_sum)/L[i,s]\n",
    "            else:\n",
    "                L[i,j] = (A[i,j]-rest_sum)/U[s,j]\n",
    "    return L,U"
   ]
  },
  {
   "cell_type": "code",
   "execution_count": 51,
   "metadata": {},
   "outputs": [
    {
     "name": "stdout",
     "output_type": "stream",
     "text": [
      "[[1. 0.]\n",
      " [4. 4.]]\n",
      "\n",
      "\n",
      "[[1. 3.]\n",
      " [0. 1.]]\n"
     ]
    }
   ],
   "source": [
    "def test_crout_A():\n",
    "    A = np.array([[1,3],[4,16]])\n",
    "    #B = np.array([[2,1,-1],[4,1,0],[-2,-3,8]])\n",
    "    L,U = LU_decomposition_crout(A)\n",
    "    print(L)\n",
    "    print('\\n')\n",
    "    print(U)\n",
    "test_crout_A()"
   ]
  },
  {
   "cell_type": "code",
   "execution_count": null,
   "metadata": {},
   "outputs": [],
   "source": []
  }
 ],
 "metadata": {
  "kernelspec": {
   "display_name": "Python 3",
   "language": "python",
   "name": "python3"
  },
  "language_info": {
   "codemirror_mode": {
    "name": "ipython",
    "version": 3
   },
   "file_extension": ".py",
   "mimetype": "text/x-python",
   "name": "python",
   "nbconvert_exporter": "python",
   "pygments_lexer": "ipython3",
   "version": "3.7.3"
  }
 },
 "nbformat": 4,
 "nbformat_minor": 2
}
