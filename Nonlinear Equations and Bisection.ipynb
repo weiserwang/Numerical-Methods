{
 "cells": [
  {
   "cell_type": "markdown",
   "metadata": {},
   "source": [
    "# Nonlinear Equations"
   ]
  },
  {
   "cell_type": "code",
   "execution_count": 2,
   "metadata": {},
   "outputs": [],
   "source": [
    "import numpy as np\n",
    "import matplotlib.pyplot as plt\n",
    "import scipy.optimize"
   ]
  },
  {
   "cell_type": "code",
   "execution_count": 6,
   "metadata": {},
   "outputs": [
    {
     "data": {
      "text/plain": [
       "Text(0, 0.5, 'y')"
      ]
     },
     "execution_count": 6,
     "metadata": {},
     "output_type": "execute_result"
    },
    {
     "data": {
      "image/png": "[encoded data removed]",
      "text/plain": [
       "<Figure size 432x288 with 1 Axes>"
      ]
     },
     "metadata": {
      "needs_background": "light"
     },
     "output_type": "display_data"
    }
   ],
   "source": [
    "x = np.linspace(0,1,num=100)\n",
    "def f(x):\n",
    "    return np.exp(x)+ x- 2\n",
    "plt.plot(x,f(x),label=r'$e^x+x-2$')\n",
    "plt.legend()\n",
    "plt.xlabel('x')\n",
    "plt.ylabel('y')"
   ]
  },
  {
   "cell_type": "markdown",
   "metadata": {},
   "source": [
    "# Blackbox Method"
   ]
  },
  {
   "cell_type": "code",
   "execution_count": 9,
   "metadata": {},
   "outputs": [
    {
     "name": "stdout",
     "output_type": "stream",
     "text": [
      "    fjac: array([[-1.]])\n",
      "     fun: array([4.4408921e-16])\n",
      " message: 'The solution converged.'\n",
      "    nfev: 8\n",
      "     qtf: array([-8.56765325e-10])\n",
      "       r: array([-2.55714742])\n",
      "  status: 1\n",
      " success: True\n",
      "       x: array([0.4428544])\n",
      "[0.4428544]\n"
     ]
    }
   ],
   "source": [
    "result = scipy.optimize.root(f,1)\n",
    "print(result)\n",
    "print(result.x)"
   ]
  },
  {
   "cell_type": "markdown",
   "metadata": {},
   "source": [
    "# Bisection Method"
   ]
  },
  {
   "cell_type": "code",
   "execution_count": 18,
   "metadata": {},
   "outputs": [],
   "source": [
    "x_l = -5\n",
    "x_r = 5\n",
    "Stopping_Criterion = 0.00001\n",
    "def Bisection(x_l, x_r, epsilon, delta, f):\n",
    "    \"\"\"\n",
    "    This function is to calculate the roots of a function with bisection method\n",
    "    Two stopping criterions are used.\n",
    "    \n",
    "    Parameters\n",
    "    ----------\n",
    "    \n",
    "    x_l, x_r : float\n",
    "        The left and right end of the domain\n",
    "        \n",
    "    epsilon,delta : float\n",
    "        The criterion that the algorithm would stop\n",
    "        \n",
    "    f : function\n",
    "        The function that we need to find the root\n",
    "        \n",
    "    Return\n",
    "    ------\n",
    "    \n",
    "    middle_point : float\n",
    "        The root to the function\n",
    "    \"\"\"\n",
    "    while True:\n",
    "        f_xl = f(x_l)\n",
    "        f_xr = f(x_r)\n",
    "        # Test the existence of roots\n",
    "        if f_xl * f_xr>0:\n",
    "            print('No Roots')\n",
    "            break\n",
    "        # Calculate the middle points\n",
    "        middle_point = (x_l+x_r)/2\n",
    "        f_xm = f(middle_point)\n",
    "        # Check wether find the roots\n",
    "        if abs(f_xm) < epsilon or abs(x_l-x_r)<delta:\n",
    "            break\n",
    "        # Update new x_l and x_r\n",
    "        if f_xl * f_xm < 0:\n",
    "            x_r = middle_point\n",
    "        else:\n",
    "            x_l = middle_point\n",
    "    return middle_point"
   ]
  },
  {
   "cell_type": "code",
   "execution_count": 19,
   "metadata": {},
   "outputs": [
    {
     "data": {
      "text/plain": [
       "0.4428541660308838"
      ]
     },
     "execution_count": 19,
     "metadata": {},
     "output_type": "execute_result"
    }
   ],
   "source": [
    "Bisection(-5,5,0.000001,0.000001,f)"
   ]
  }
 ],
 "metadata": {
  "kernelspec": {
   "display_name": "Python 3",
   "language": "python",
   "name": "python3"
  },
  "language_info": {
   "codemirror_mode": {
    "name": "ipython",
    "version": 3
   },
   "file_extension": ".py",
   "mimetype": "text/x-python",
   "name": "python",
   "nbconvert_exporter": "python",
   "pygments_lexer": "ipython3",
   "version": "3.7.3"
  }
 },
 "nbformat": 4,
 "nbformat_minor": 2
}
