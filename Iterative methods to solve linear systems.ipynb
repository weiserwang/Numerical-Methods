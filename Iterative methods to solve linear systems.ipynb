{
 "cells": [
  {
   "cell_type": "code",
   "execution_count": 2,
   "metadata": {},
   "outputs": [],
   "source": [
    "import numpy as np \n",
    "import matplotlib.pyplot as plt"
   ]
  },
  {
   "cell_type": "markdown",
   "metadata": {},
   "source": [
    "# $Ax=b$"
   ]
  },
  {
   "cell_type": "code",
   "execution_count": 15,
   "metadata": {},
   "outputs": [
    {
     "name": "stdout",
     "output_type": "stream",
     "text": [
      "[[3. 1.]\n",
      " [1. 3.]]\n",
      "0.3333333333333333\n"
     ]
    }
   ],
   "source": [
    "A = np.array([[3,1],[1,3]],dtype=float)\n",
    "b = np.array([5,7],dtype=float)\n",
    "print(A)"
   ]
  },
  {
   "cell_type": "code",
   "execution_count": 50,
   "metadata": {},
   "outputs": [],
   "source": [
    "# Jacobi's method\n",
    "def Jacobi(A,b,num_of_iterations,x):  \n",
    "    n = len(b)\n",
    "    N = np.eye(n)\n",
    "    # Change diagonal elements into 1\n",
    "    for i in range(n):\n",
    "        b[i] /= A[i,i]\n",
    "        A[i,:] /= A[i,i]\n",
    "\n",
    "    P = N-A\n",
    "    M_norm = np.linalg.norm(P,ord=1)\n",
    "    \n",
    "    \n",
    "    # Check wether the method converges\n",
    "    if M_norm>=1:\n",
    "        print('Jacobi will not converge')\n",
    "    else:\n",
    "        error_ls = []\n",
    "        for i in range(num_of_iterations):\n",
    "            x = np.dot(P,x)+b\n",
    "            # Plot n against error\n",
    "#             x_true = np.array([1,2],dtype=float)\n",
    "#             error = np.linalg.norm(x_true-x,ord=1)\n",
    "#             error_ls.append(error)\n",
    "\n",
    "\n",
    "#         plt.semilogy(np.arange(num_of_iterations),\n",
    "#                             error_ls,'bx',label=r'$\\log(\\||e\\||)$')\n",
    "#         plt.legend()\n",
    "    return x"
   ]
  },
  {
   "cell_type": "code",
   "execution_count": 44,
   "metadata": {},
   "outputs": [
    {
     "name": "stdout",
     "output_type": "stream",
     "text": [
      "[1. 2.]\n"
     ]
    },
    {
     "data": {
      "image/png": "[encoded data removed]",
      "text/plain": [
       "<Figure size 432x288 with 1 Axes>"
      ]
     },
     "metadata": {
      "needs_background": "light"
     },
     "output_type": "display_data"
    }
   ],
   "source": [
    "x = np.array([0,0],dtype=float)\n",
    "x = Jacobi(A,b,100,x)\n",
    "print(x)"
   ]
  },
  {
   "cell_type": "code",
   "execution_count": 57,
   "metadata": {},
   "outputs": [],
   "source": [
    "# Gauss-Seidel Method\n",
    "x = np.array([0,0],dtype=float)\n",
    "num_of_iterations = 10\n",
    "\n",
    "def Gauss_Seidel(A,b,x,num_of_iterations):\n",
    "    n = len(b)\n",
    "    # Change diagonal elements into 1\n",
    "    for i in range(n):\n",
    "        b[i] /= A[i,i]\n",
    "        A[i,:] /= A[i,i]\n",
    "\n",
    "    \n",
    "    AL = np.tril(-A,-1)\n",
    "    AU = np.triu(-A,1)\n",
    "    N = np.eye(n)-AL\n",
    "    M_norm = np.linalg.norm(np.dot(np.linalg.inv(N),AU))\n",
    "    \n",
    "    if M_norm>=1:\n",
    "        print('Can not convergent')\n",
    "    else:\n",
    "        for i in range(num_of_iterations):\n",
    "            x_copy = x.copy()\n",
    "            for j in range(n):\n",
    "                x[j] = np.dot(AL[j,:],x)+np.dot(AU[j,:],x_copy)+b[j]\n",
    "    return x      \n",
    "    "
   ]
  },
  {
   "cell_type": "code",
   "execution_count": 58,
   "metadata": {},
   "outputs": [
    {
     "data": {
      "text/plain": [
       "array([1., 2.])"
      ]
     },
     "execution_count": 58,
     "metadata": {},
     "output_type": "execute_result"
    }
   ],
   "source": [
    "Gauss_Seidel(A,b,x,num_of_iterations)"
   ]
  }
 ],
 "metadata": {
  "kernelspec": {
   "display_name": "Python 3",
   "language": "python",
   "name": "python3"
  },
  "language_info": {
   "codemirror_mode": {
    "name": "ipython",
    "version": 3
   },
   "file_extension": ".py",
   "mimetype": "text/x-python",
   "name": "python",
   "nbconvert_exporter": "python",
   "pygments_lexer": "ipython3",
   "version": "3.7.3"
  }
 },
 "nbformat": 4,
 "nbformat_minor": 2
}
