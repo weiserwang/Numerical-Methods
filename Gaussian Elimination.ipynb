{
 "cells": [
  {
   "cell_type": "code",
   "execution_count": 28,
   "metadata": {},
   "outputs": [],
   "source": [
    "import numpy as np"
   ]
  },
  {
   "cell_type": "code",
   "execution_count": 29,
   "metadata": {},
   "outputs": [],
   "source": [
    "def gaussian_elimination(A):   \n",
    "    \"\"\"\n",
    "    Parameter\n",
    "    ---------\n",
    "    A : float,numpy array, 2d\n",
    "        A matrix that needs to be reduced to a upper triangular form\n",
    "    \n",
    "    Notes\n",
    "    -----\n",
    "    This method is not \n",
    "    \"\"\"\n",
    "    nrow,ncol = int(A.shape[0]),int(A.shape[1])\n",
    "    for i in range(nrow):\n",
    "        for j in range(i+1,nrow):\n",
    "            A[j,:] = A[j,:] - A[j,i]*A[i,:]/A[i,i]\n",
    "    return A\n",
    "\n",
    "    "
   ]
  },
  {
   "cell_type": "code",
   "execution_count": 36,
   "metadata": {},
   "outputs": [],
   "source": [
    "def test_gaussian_elimination():\n",
    "    B = np.array([[1,2,3],[2,3,4],[4,5,6]])\n",
    "    b = gaussian_elimination(B)\n",
    "    \n",
    "    C = np.array([[2,3,2],[4,1,5],[6,2,3]])\n",
    "    c = gaussian_elimination(C)\n",
    "    return b,c"
   ]
  },
  {
   "cell_type": "code",
   "execution_count": 38,
   "metadata": {},
   "outputs": [
    {
     "name": "stdout",
     "output_type": "stream",
     "text": [
      "[[ 1  2  3]\n",
      " [ 0 -1 -2]\n",
      " [ 0  0  0]]\n",
      "\n",
      "\n",
      "[[ 2  3  2]\n",
      " [ 0 -5  1]\n",
      " [ 0  0 -4]]\n"
     ]
    }
   ],
   "source": [
    "b,c = test_gaussian_elimination()\n",
    "print(b)\n",
    "print('\\n')\n",
    "print(c)"
   ]
  },
  {
   "cell_type": "code",
   "execution_count": 92,
   "metadata": {},
   "outputs": [],
   "source": [
    "def gaussian_elimination_pivoting(A):\n",
    "    \"\"\"\n",
    "    This function is to conduct gaussian elimination with pivoting\n",
    "    \n",
    "    Parameter\n",
    "    ---------\n",
    "    A : numpy array, 2d\n",
    "        matrix to be reduced,size n*n\n",
    "        \n",
    "    Return\n",
    "    ------\n",
    "    A : Upper triangular matrix\n",
    "    \n",
    "    Notes\n",
    "    -----\n",
    "    This is more robust than the original one.\n",
    "    \n",
    "    \"\"\"\n",
    "    A = np.array(A,dtype='f')\n",
    "    nrow,ncol = int(A.shape[0]),int(A.shape[1])\n",
    "    \n",
    "    for i in range(nrow):\n",
    "        max_row = np.argmax(np.abs(A[i:,i]))# Find the largest row\n",
    "        if max_row>0:\n",
    "            A[[i,i+max_row],:] = A[[i+max_row,i],:]\n",
    "        for j in range(i+1,nrow):\n",
    "            A[j,:] = A[j,:] - A[j,i]*A[i,:]/A[i,i]\n",
    "    return A\n"
   ]
  },
  {
   "cell_type": "code",
   "execution_count": 94,
   "metadata": {},
   "outputs": [
    {
     "name": "stdout",
     "output_type": "stream",
     "text": [
      "[[ 1.   1.   1. ]\n",
      " [ 0.   4.   5. ]\n",
      " [ 0.   0.  -0.5]]\n",
      "[[ 2.   3.   4. ]\n",
      " [ 0.  -0.5  1. ]\n",
      " [ 0.   0.   2. ]]\n"
     ]
    }
   ],
   "source": [
    "A = np.array([[1,1,1],[0,2,2],[0,4,5]],dtype='f')\n",
    "B = np.array([[2,3,4],[0,0,2],[1,1,3]])\n",
    "print(gaussian_elimination_pivoting(A))\n",
    "print(gaussian_elimination_pivoting(B))\n",
    "\n"
   ]
  }
 ],
 "metadata": {
  "kernelspec": {
   "display_name": "Python 3",
   "language": "python",
   "name": "python3"
  },
  "language_info": {
   "codemirror_mode": {
    "name": "ipython",
    "version": 3
   },
   "file_extension": ".py",
   "mimetype": "text/x-python",
   "name": "python",
   "nbconvert_exporter": "python",
   "pygments_lexer": "ipython3",
   "version": "3.7.3"
  }
 },
 "nbformat": 4,
 "nbformat_minor": 2
}
